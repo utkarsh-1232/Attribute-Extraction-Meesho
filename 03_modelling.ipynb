{
 "cells": [
  {
   "cell_type": "code",
   "execution_count": 1,
   "id": "c50352bd-45ce-4590-bee0-1dea0224b60f",
   "metadata": {},
   "outputs": [],
   "source": [
    "import os\n",
    "from pathlib import Path\n",
    "\n",
    "import pandas as pd\n",
    "import matplotlib.pyplot as plt\n",
    "import torch"
   ]
  },
  {
   "cell_type": "code",
   "execution_count": 2,
   "id": "f5090f4b-aa51-4017-96e6-e6cf4f2a48d3",
   "metadata": {},
   "outputs": [],
   "source": [
    "is_kaggle = 'KAGGLE_KERNEL_RUN_TYPE' in os.environ\n",
    "path = Path('../input/visual-taxonomy') if is_kaggle else Path('data')\n",
    "\n",
    "if is_kaggle:\n",
    "    utils_path = Path('../input/attribute-extraction-meesho')\n",
    "    from shutil import copyfile\n",
    "    copyfile(src=utils_path/'data_preparation.py', dst='../working/data_preparation.py')"
   ]
  },
  {
   "cell_type": "code",
   "execution_count": 3,
   "id": "999c851a-d5e4-466b-b79a-b91e477ea42a",
   "metadata": {},
   "outputs": [],
   "source": [
    "from src.data_preparation import *"
   ]
  },
  {
   "cell_type": "code",
   "execution_count": null,
   "id": "1e2a8d30-3c89-4cf2-84e5-70de61ae34ff",
   "metadata": {},
   "outputs": [],
   "source": [
    "cat_info = pd.read_parquet(path/'category_attributes.parquet')\n",
    "df = pd.read_csv(path/'train.csv')\n",
    "test_df = pd.read_csv(path/'test.csv')"
   ]
  },
  {
   "cell_type": "code",
   "execution_count": null,
   "id": "4482f7dc-4b2c-44ef-8834-27bc99f286f4",
   "metadata": {},
   "outputs": [],
   "source": [
    "from transformers import BlipImageProcessor, BertTokenizerFast\n",
    "\n",
    "ckpt = \"Salesforce/blip-itm-base-coco\"\n",
    "img_processor = BlipImageProcessor.from_pretrained(ckpt)\n",
    "tokenizer = BertTokenizerFast.from_pretrained(ckpt)"
   ]
  },
  {
   "cell_type": "code",
   "execution_count": null,
   "id": "bb337a0e-6c12-46b3-a47a-6fddf6eb30a4",
   "metadata": {},
   "outputs": [],
   "source": [
    "df = process_df(df, path)\n",
    "cat_info = process_cat_info(cat_info, tokenizer)"
   ]
  },
  {
   "cell_type": "code",
   "execution_count": null,
   "id": "46bf1318-36a0-45b9-b56d-3c784b6348f1",
   "metadata": {},
   "outputs": [],
   "source": [
    "batch_size = 4\n",
    "dl = MeeshoDataloader(df, cat_info, batch_size=batch_size, img_processor=img_processor)"
   ]
  },
  {
   "cell_type": "code",
   "execution_count": null,
   "id": "e18d293a-d9f3-41e4-b050-a8887b41cd2d",
   "metadata": {},
   "outputs": [],
   "source": []
  }
 ],
 "metadata": {
  "kernelspec": {
   "display_name": "Python 3 (ipykernel)",
   "language": "python",
   "name": "python3"
  },
  "language_info": {
   "codemirror_mode": {
    "name": "ipython",
    "version": 3
   },
   "file_extension": ".py",
   "mimetype": "text/x-python",
   "name": "python",
   "nbconvert_exporter": "python",
   "pygments_lexer": "ipython3",
   "version": "3.12.8"
  }
 },
 "nbformat": 4,
 "nbformat_minor": 5
}
